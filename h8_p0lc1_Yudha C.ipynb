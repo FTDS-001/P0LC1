{
 "cells": [
  {
   "cell_type": "code",
   "execution_count": 1,
   "metadata": {},
   "outputs": [],
   "source": [
    "#Nama: Yudha Cipta Maulana Yusuf\n",
    "#Hacktiv8 Batch 01\n",
    "#Live Code P0LC1"
   ]
  },
  {
   "cell_type": "markdown",
   "metadata": {},
   "source": [
    "\n",
    "Live Code - Problems to calculate R\n"
   ]
  },
  {
   "cell_type": "code",
   "execution_count": 71,
   "metadata": {},
   "outputs": [],
   "source": [
    "#library yang digunakan\n",
    "import pandas as pd"
   ]
  },
  {
   "cell_type": "code",
   "execution_count": 72,
   "metadata": {},
   "outputs": [],
   "source": [
    "#load dataset\n",
    "df = pd.read_csv(\"NMC1-9.csv\")"
   ]
  },
  {
   "cell_type": "markdown",
   "metadata": {},
   "source": [
    "dibawah ini merupakan data eksplorasi sederhana"
   ]
  },
  {
   "cell_type": "code",
   "execution_count": 73,
   "metadata": {},
   "outputs": [
    {
     "name": "stdout",
     "output_type": "stream",
     "text": [
      "<class 'pandas.core.frame.DataFrame'>\n",
      "RangeIndex: 90982 entries, 0 to 90981\n",
      "Data columns (total 5 columns):\n",
      "time(s)        90982 non-null int64\n",
      "V_m            90982 non-null float64\n",
      "Current (A)    90982 non-null float64\n",
      "Cycle          90982 non-null int64\n",
      "Cap            90982 non-null float64\n",
      "dtypes: float64(3), int64(2)\n",
      "memory usage: 3.5 MB\n"
     ]
    },
    {
     "data": {
      "text/html": [
       "<div>\n",
       "<style scoped>\n",
       "    .dataframe tbody tr th:only-of-type {\n",
       "        vertical-align: middle;\n",
       "    }\n",
       "\n",
       "    .dataframe tbody tr th {\n",
       "        vertical-align: top;\n",
       "    }\n",
       "\n",
       "    .dataframe thead th {\n",
       "        text-align: right;\n",
       "    }\n",
       "</style>\n",
       "<table border=\"1\" class=\"dataframe\">\n",
       "  <thead>\n",
       "    <tr style=\"text-align: right;\">\n",
       "      <th></th>\n",
       "      <th>time(s)</th>\n",
       "      <th>V_m</th>\n",
       "      <th>Current (A)</th>\n",
       "      <th>Cycle</th>\n",
       "      <th>Cap</th>\n",
       "    </tr>\n",
       "  </thead>\n",
       "  <tbody>\n",
       "    <tr>\n",
       "      <td>0</td>\n",
       "      <td>0</td>\n",
       "      <td>4.098</td>\n",
       "      <td>0.997</td>\n",
       "      <td>1</td>\n",
       "      <td>2.840817</td>\n",
       "    </tr>\n",
       "    <tr>\n",
       "      <td>1</td>\n",
       "      <td>1</td>\n",
       "      <td>4.096</td>\n",
       "      <td>0.998</td>\n",
       "      <td>1</td>\n",
       "      <td>2.840817</td>\n",
       "    </tr>\n",
       "    <tr>\n",
       "      <td>2</td>\n",
       "      <td>2</td>\n",
       "      <td>4.094</td>\n",
       "      <td>0.999</td>\n",
       "      <td>1</td>\n",
       "      <td>2.840817</td>\n",
       "    </tr>\n",
       "    <tr>\n",
       "      <td>3</td>\n",
       "      <td>3</td>\n",
       "      <td>4.093</td>\n",
       "      <td>0.998</td>\n",
       "      <td>1</td>\n",
       "      <td>2.840817</td>\n",
       "    </tr>\n",
       "    <tr>\n",
       "      <td>4</td>\n",
       "      <td>4</td>\n",
       "      <td>4.092</td>\n",
       "      <td>0.999</td>\n",
       "      <td>1</td>\n",
       "      <td>2.840817</td>\n",
       "    </tr>\n",
       "    <tr>\n",
       "      <td>5</td>\n",
       "      <td>5</td>\n",
       "      <td>4.091</td>\n",
       "      <td>0.997</td>\n",
       "      <td>1</td>\n",
       "      <td>2.840817</td>\n",
       "    </tr>\n",
       "    <tr>\n",
       "      <td>6</td>\n",
       "      <td>6</td>\n",
       "      <td>4.090</td>\n",
       "      <td>0.996</td>\n",
       "      <td>1</td>\n",
       "      <td>2.840817</td>\n",
       "    </tr>\n",
       "    <tr>\n",
       "      <td>7</td>\n",
       "      <td>7</td>\n",
       "      <td>4.089</td>\n",
       "      <td>0.996</td>\n",
       "      <td>1</td>\n",
       "      <td>2.840817</td>\n",
       "    </tr>\n",
       "    <tr>\n",
       "      <td>8</td>\n",
       "      <td>8</td>\n",
       "      <td>4.089</td>\n",
       "      <td>0.995</td>\n",
       "      <td>1</td>\n",
       "      <td>2.840817</td>\n",
       "    </tr>\n",
       "    <tr>\n",
       "      <td>9</td>\n",
       "      <td>9</td>\n",
       "      <td>4.088</td>\n",
       "      <td>0.995</td>\n",
       "      <td>1</td>\n",
       "      <td>2.840817</td>\n",
       "    </tr>\n",
       "  </tbody>\n",
       "</table>\n",
       "</div>"
      ],
      "text/plain": [
       "   time(s)    V_m  Current (A)  Cycle       Cap\n",
       "0        0  4.098        0.997      1  2.840817\n",
       "1        1  4.096        0.998      1  2.840817\n",
       "2        2  4.094        0.999      1  2.840817\n",
       "3        3  4.093        0.998      1  2.840817\n",
       "4        4  4.092        0.999      1  2.840817\n",
       "5        5  4.091        0.997      1  2.840817\n",
       "6        6  4.090        0.996      1  2.840817\n",
       "7        7  4.089        0.996      1  2.840817\n",
       "8        8  4.089        0.995      1  2.840817\n",
       "9        9  4.088        0.995      1  2.840817"
      ]
     },
     "execution_count": 73,
     "metadata": {},
     "output_type": "execute_result"
    }
   ],
   "source": [
    "df.info()\n",
    "df.head(10)"
   ]
  },
  {
   "cell_type": "code",
   "execution_count": 74,
   "metadata": {},
   "outputs": [
    {
     "data": {
      "text/html": [
       "<div>\n",
       "<style scoped>\n",
       "    .dataframe tbody tr th:only-of-type {\n",
       "        vertical-align: middle;\n",
       "    }\n",
       "\n",
       "    .dataframe tbody tr th {\n",
       "        vertical-align: top;\n",
       "    }\n",
       "\n",
       "    .dataframe thead th {\n",
       "        text-align: right;\n",
       "    }\n",
       "</style>\n",
       "<table border=\"1\" class=\"dataframe\">\n",
       "  <thead>\n",
       "    <tr style=\"text-align: right;\">\n",
       "      <th></th>\n",
       "      <th>time(s)</th>\n",
       "      <th>V_m</th>\n",
       "      <th>Current (A)</th>\n",
       "      <th>Cycle</th>\n",
       "      <th>Cap</th>\n",
       "    </tr>\n",
       "  </thead>\n",
       "  <tbody>\n",
       "    <tr>\n",
       "      <td>count</td>\n",
       "      <td>90982.000000</td>\n",
       "      <td>90982.000000</td>\n",
       "      <td>90982.000000</td>\n",
       "      <td>90982.000000</td>\n",
       "      <td>90982.000000</td>\n",
       "    </tr>\n",
       "    <tr>\n",
       "      <td>mean</td>\n",
       "      <td>45490.500000</td>\n",
       "      <td>3.607666</td>\n",
       "      <td>0.999264</td>\n",
       "      <td>4.978699</td>\n",
       "      <td>2.806214</td>\n",
       "    </tr>\n",
       "    <tr>\n",
       "      <td>std</td>\n",
       "      <td>26264.385433</td>\n",
       "      <td>0.322777</td>\n",
       "      <td>0.001997</td>\n",
       "      <td>2.582135</td>\n",
       "      <td>0.023283</td>\n",
       "    </tr>\n",
       "    <tr>\n",
       "      <td>min</td>\n",
       "      <td>0.000000</td>\n",
       "      <td>2.497000</td>\n",
       "      <td>0.993000</td>\n",
       "      <td>1.000000</td>\n",
       "      <td>2.770180</td>\n",
       "    </tr>\n",
       "    <tr>\n",
       "      <td>25%</td>\n",
       "      <td>22745.250000</td>\n",
       "      <td>3.422000</td>\n",
       "      <td>0.997000</td>\n",
       "      <td>3.000000</td>\n",
       "      <td>2.786860</td>\n",
       "    </tr>\n",
       "    <tr>\n",
       "      <td>50%</td>\n",
       "      <td>45490.500000</td>\n",
       "      <td>3.636000</td>\n",
       "      <td>0.999000</td>\n",
       "      <td>5.000000</td>\n",
       "      <td>2.804878</td>\n",
       "    </tr>\n",
       "    <tr>\n",
       "      <td>75%</td>\n",
       "      <td>68235.750000</td>\n",
       "      <td>3.868000</td>\n",
       "      <td>1.001000</td>\n",
       "      <td>7.000000</td>\n",
       "      <td>2.823520</td>\n",
       "    </tr>\n",
       "    <tr>\n",
       "      <td>max</td>\n",
       "      <td>90981.000000</td>\n",
       "      <td>4.114000</td>\n",
       "      <td>1.003000</td>\n",
       "      <td>9.000000</td>\n",
       "      <td>2.840817</td>\n",
       "    </tr>\n",
       "  </tbody>\n",
       "</table>\n",
       "</div>"
      ],
      "text/plain": [
       "            time(s)           V_m   Current (A)         Cycle           Cap\n",
       "count  90982.000000  90982.000000  90982.000000  90982.000000  90982.000000\n",
       "mean   45490.500000      3.607666      0.999264      4.978699      2.806214\n",
       "std    26264.385433      0.322777      0.001997      2.582135      0.023283\n",
       "min        0.000000      2.497000      0.993000      1.000000      2.770180\n",
       "25%    22745.250000      3.422000      0.997000      3.000000      2.786860\n",
       "50%    45490.500000      3.636000      0.999000      5.000000      2.804878\n",
       "75%    68235.750000      3.868000      1.001000      7.000000      2.823520\n",
       "max    90981.000000      4.114000      1.003000      9.000000      2.840817"
      ]
     },
     "execution_count": 74,
     "metadata": {},
     "output_type": "execute_result"
    }
   ],
   "source": [
    "df.describe()"
   ]
  },
  {
   "cell_type": "code",
   "execution_count": 75,
   "metadata": {},
   "outputs": [
    {
     "data": {
      "text/plain": [
       "(90982, 5)"
      ]
     },
     "execution_count": 75,
     "metadata": {},
     "output_type": "execute_result"
    }
   ],
   "source": [
    "len(df)\n",
    "df.shape"
   ]
  },
  {
   "cell_type": "code",
   "execution_count": 76,
   "metadata": {},
   "outputs": [
    {
     "data": {
      "text/plain": [
       "<bound method NDFrame.tail of        time(s)    V_m  Current (A)  Cycle       Cap\n",
       "0            0  4.098        0.997      1  2.840817\n",
       "1            1  4.096        0.998      1  2.840817\n",
       "2            2  4.094        0.999      1  2.840817\n",
       "3            3  4.093        0.998      1  2.840817\n",
       "4            4  4.092        0.999      1  2.840817\n",
       "...        ...    ...          ...    ...       ...\n",
       "90977    90977  2.506        1.002      9  2.770180\n",
       "90978    90978  2.504        1.002      9  2.770180\n",
       "90979    90979  2.502        1.002      9  2.770180\n",
       "90980    90980  2.500        1.002      9  2.770180\n",
       "90981    90981  2.497        1.002      9  2.770180\n",
       "\n",
       "[90982 rows x 5 columns]>"
      ]
     },
     "execution_count": 76,
     "metadata": {},
     "output_type": "execute_result"
    }
   ],
   "source": [
    "df.tail"
   ]
  },
  {
   "cell_type": "code",
   "execution_count": 77,
   "metadata": {},
   "outputs": [
    {
     "data": {
      "text/plain": [
       "4.001    252\n",
       "3.991    232\n",
       "3.997    228\n",
       "3.996    223\n",
       "3.994    216\n",
       "        ... \n",
       "2.552      2\n",
       "4.114      2\n",
       "2.497      2\n",
       "2.556      2\n",
       "2.636      2\n",
       "Name: V_m, Length: 1617, dtype: int64"
      ]
     },
     "execution_count": 77,
     "metadata": {},
     "output_type": "execute_result"
    }
   ],
   "source": [
    "df[\"V_m\"].value_counts()"
   ]
  },
  {
   "cell_type": "code",
   "execution_count": 143,
   "metadata": {},
   "outputs": [
    {
     "data": {
      "text/html": [
       "<div>\n",
       "<style scoped>\n",
       "    .dataframe tbody tr th:only-of-type {\n",
       "        vertical-align: middle;\n",
       "    }\n",
       "\n",
       "    .dataframe tbody tr th {\n",
       "        vertical-align: top;\n",
       "    }\n",
       "\n",
       "    .dataframe thead th {\n",
       "        text-align: right;\n",
       "    }\n",
       "</style>\n",
       "<table border=\"1\" class=\"dataframe\">\n",
       "  <thead>\n",
       "    <tr style=\"text-align: right;\">\n",
       "      <th></th>\n",
       "      <th>TIME</th>\n",
       "      <th>VM</th>\n",
       "      <th>ampere</th>\n",
       "      <th>CYCLE</th>\n",
       "      <th>CAP</th>\n",
       "    </tr>\n",
       "  </thead>\n",
       "  <tbody>\n",
       "    <tr>\n",
       "      <td>90977</td>\n",
       "      <td>90977</td>\n",
       "      <td>2.506</td>\n",
       "      <td>1.002</td>\n",
       "      <td>9</td>\n",
       "      <td>2.77018</td>\n",
       "    </tr>\n",
       "    <tr>\n",
       "      <td>90978</td>\n",
       "      <td>90978</td>\n",
       "      <td>2.504</td>\n",
       "      <td>1.002</td>\n",
       "      <td>9</td>\n",
       "      <td>2.77018</td>\n",
       "    </tr>\n",
       "    <tr>\n",
       "      <td>90979</td>\n",
       "      <td>90979</td>\n",
       "      <td>2.502</td>\n",
       "      <td>1.002</td>\n",
       "      <td>9</td>\n",
       "      <td>2.77018</td>\n",
       "    </tr>\n",
       "    <tr>\n",
       "      <td>90980</td>\n",
       "      <td>90980</td>\n",
       "      <td>2.500</td>\n",
       "      <td>1.002</td>\n",
       "      <td>9</td>\n",
       "      <td>2.77018</td>\n",
       "    </tr>\n",
       "    <tr>\n",
       "      <td>90981</td>\n",
       "      <td>90981</td>\n",
       "      <td>2.497</td>\n",
       "      <td>1.002</td>\n",
       "      <td>9</td>\n",
       "      <td>2.77018</td>\n",
       "    </tr>\n",
       "  </tbody>\n",
       "</table>\n",
       "</div>"
      ],
      "text/plain": [
       "        TIME     VM  ampere  CYCLE      CAP\n",
       "90977  90977  2.506   1.002      9  2.77018\n",
       "90978  90978  2.504   1.002      9  2.77018\n",
       "90979  90979  2.502   1.002      9  2.77018\n",
       "90980  90980  2.500   1.002      9  2.77018\n",
       "90981  90981  2.497   1.002      9  2.77018"
      ]
     },
     "execution_count": 143,
     "metadata": {},
     "output_type": "execute_result"
    }
   ],
   "source": [
    "#mempersingkat suatu nama dalam tabel\n",
    "df.columns = df.columns.str.upper().str.replace('_', '')\n",
    "renamed_df=df.rename(\n",
    "    columns={\"TIME(S)\":\"TIME\",\"CURRENT (A)\":\"ampere\"}\n",
    ")\n",
    "renamed_df.tail()"
   ]
  },
  {
   "cell_type": "code",
   "execution_count": 133,
   "metadata": {},
   "outputs": [
    {
     "data": {
      "text/plain": [
       "0        False\n",
       "1        False\n",
       "2        False\n",
       "3        False\n",
       "4        False\n",
       "         ...  \n",
       "90977    False\n",
       "90978    False\n",
       "90979    False\n",
       "90980    False\n",
       "90981    False\n",
       "Name: CYCLE, Length: 90982, dtype: bool"
      ]
     },
     "execution_count": 133,
     "metadata": {},
     "output_type": "execute_result"
    }
   ],
   "source": [
    "df[\"CYCLE\"].isnull()"
   ]
  },
  {
   "cell_type": "code",
   "execution_count": 134,
   "metadata": {},
   "outputs": [
    {
     "data": {
      "text/plain": [
       "<bound method NDFrame.head of 0        1\n",
       "1        1\n",
       "2        1\n",
       "3        1\n",
       "4        1\n",
       "        ..\n",
       "90977    9\n",
       "90978    9\n",
       "90979    9\n",
       "90980    9\n",
       "90981    9\n",
       "Name: CYCLE, Length: 90982, dtype: int64>"
      ]
     },
     "execution_count": 134,
     "metadata": {},
     "output_type": "execute_result"
    }
   ],
   "source": [
    "Cycle = df[\"CYCLE\"]\n",
    "Cycle.head"
   ]
  },
  {
   "cell_type": "code",
   "execution_count": 146,
   "metadata": {},
   "outputs": [],
   "source": [
    "#membagi data berdasarkan cycle genap dan ganjil\n",
    "\n",
    "genap= renamed_df[\n",
    "    (df[\"CYCLE\"] % 2 == 0 )]\n",
    "ganjil = renamed_df[\n",
    "    (df[\"CYCLE\"] % 2 == 1 )]"
   ]
  },
  {
   "cell_type": "code",
   "execution_count": 147,
   "metadata": {},
   "outputs": [
    {
     "data": {
      "text/html": [
       "<div>\n",
       "<style scoped>\n",
       "    .dataframe tbody tr th:only-of-type {\n",
       "        vertical-align: middle;\n",
       "    }\n",
       "\n",
       "    .dataframe tbody tr th {\n",
       "        vertical-align: top;\n",
       "    }\n",
       "\n",
       "    .dataframe thead th {\n",
       "        text-align: right;\n",
       "    }\n",
       "</style>\n",
       "<table border=\"1\" class=\"dataframe\">\n",
       "  <thead>\n",
       "    <tr style=\"text-align: right;\">\n",
       "      <th></th>\n",
       "      <th>TIME</th>\n",
       "      <th>VM</th>\n",
       "      <th>ampere</th>\n",
       "      <th>CYCLE</th>\n",
       "      <th>CAP</th>\n",
       "    </tr>\n",
       "  </thead>\n",
       "  <tbody>\n",
       "    <tr>\n",
       "      <td>10237</td>\n",
       "      <td>10237</td>\n",
       "      <td>4.111</td>\n",
       "      <td>0.993</td>\n",
       "      <td>2</td>\n",
       "      <td>2.833465</td>\n",
       "    </tr>\n",
       "    <tr>\n",
       "      <td>10238</td>\n",
       "      <td>10238</td>\n",
       "      <td>4.110</td>\n",
       "      <td>0.995</td>\n",
       "      <td>2</td>\n",
       "      <td>2.833465</td>\n",
       "    </tr>\n",
       "    <tr>\n",
       "      <td>10239</td>\n",
       "      <td>10239</td>\n",
       "      <td>4.108</td>\n",
       "      <td>0.998</td>\n",
       "      <td>2</td>\n",
       "      <td>2.833465</td>\n",
       "    </tr>\n",
       "    <tr>\n",
       "      <td>10240</td>\n",
       "      <td>10240</td>\n",
       "      <td>4.107</td>\n",
       "      <td>0.999</td>\n",
       "      <td>2</td>\n",
       "      <td>2.833465</td>\n",
       "    </tr>\n",
       "    <tr>\n",
       "      <td>10241</td>\n",
       "      <td>10241</td>\n",
       "      <td>4.107</td>\n",
       "      <td>1.001</td>\n",
       "      <td>2</td>\n",
       "      <td>2.833465</td>\n",
       "    </tr>\n",
       "  </tbody>\n",
       "</table>\n",
       "</div>"
      ],
      "text/plain": [
       "        TIME     VM  ampere  CYCLE       CAP\n",
       "10237  10237  4.111   0.993      2  2.833465\n",
       "10238  10238  4.110   0.995      2  2.833465\n",
       "10239  10239  4.108   0.998      2  2.833465\n",
       "10240  10240  4.107   0.999      2  2.833465\n",
       "10241  10241  4.107   1.001      2  2.833465"
      ]
     },
     "execution_count": 147,
     "metadata": {},
     "output_type": "execute_result"
    }
   ],
   "source": [
    "#cek data yang sudah diubah\n",
    "genap.head()"
   ]
  },
  {
   "cell_type": "code",
   "execution_count": 154,
   "metadata": {},
   "outputs": [],
   "source": [
    "#set parameter untuk menghitung resistance (problem1)\n",
    "volt_1=genap[\"VM\"]\n",
    "ampere_1=genap[\"ampere\"]\n",
    "cycle_1=genap[\"CYCLE\"]\n",
    "time_1=genap[\"TIME\"]"
   ]
  },
  {
   "cell_type": "code",
   "execution_count": 167,
   "metadata": {},
   "outputs": [],
   "source": [
    "#set parameter untuk menghitung daya (problem2)\n",
    "volt_2=ganjil[\"VM\"]\n",
    "ampere_2=ganjil[\"ampere\"]\n",
    "cycle_2=ganjil[\"CYCLE\"]\n",
    "time_2=ganjil[\"TIME\"]"
   ]
  },
  {
   "cell_type": "code",
   "execution_count": 171,
   "metadata": {},
   "outputs": [
    {
     "ename": "IndentationError",
     "evalue": "expected an indented block (<ipython-input-171-0af8a39b22e5>, line 14)",
     "output_type": "error",
     "traceback": [
      "\u001b[1;36m  File \u001b[1;32m\"<ipython-input-171-0af8a39b22e5>\"\u001b[1;36m, line \u001b[1;32m14\u001b[0m\n\u001b[1;33m    return(genap.volt1 * ampere1)\u001b[0m\n\u001b[1;37m         ^\u001b[0m\n\u001b[1;31mIndentationError\u001b[0m\u001b[1;31m:\u001b[0m expected an indented block\n"
     ]
    }
   ],
   "source": [
    "#function untuk menghitung\n",
    "time1=time_1\n",
    "volt1=volt_1\n",
    "ampere1=ampere_1\n",
    "cylce1=cycle_1\n",
    "\n",
    "time2=time_2\n",
    "volt2=volt_2\n",
    "ampere2=ampere_2\n",
    "cylc2=cycle_2\n",
    "\n",
    "def calcP (x):\n",
    "    for x in \"time1\":\n",
    "    return(genap.volt1 * ampere1)\n",
    "print(calcP)\n",
    "\n",
    "for x in \"time2\":\n",
    "def calcR (x):\n",
    "    return(\"volt2\" * \"ampere2\")\n",
    "print(calcR)"
   ]
  },
  {
   "cell_type": "code",
   "execution_count": 172,
   "metadata": {},
   "outputs": [
    {
     "name": "stdout",
     "output_type": "stream",
     "text": [
      "<function calcR at 0x000001B959966AF8>\n"
     ]
    }
   ],
   "source": [
    "#hasil problem 1 (menghitung resitance)\n",
    "print(calcR)"
   ]
  },
  {
   "cell_type": "code",
   "execution_count": 173,
   "metadata": {},
   "outputs": [
    {
     "name": "stdout",
     "output_type": "stream",
     "text": [
      "<function calcP at 0x000001B9599663A8>\n"
     ]
    }
   ],
   "source": [
    "#hasil problem 1.2 (menghitung daya)\n",
    "print(calcP)"
   ]
  },
  {
   "cell_type": "code",
   "execution_count": null,
   "metadata": {},
   "outputs": [],
   "source": []
  }
 ],
 "metadata": {
  "kernelspec": {
   "display_name": "Python 3",
   "language": "python",
   "name": "python3"
  },
  "language_info": {
   "codemirror_mode": {
    "name": "ipython",
    "version": 3
   },
   "file_extension": ".py",
   "mimetype": "text/x-python",
   "name": "python",
   "nbconvert_exporter": "python",
   "pygments_lexer": "ipython3",
   "version": "3.7.4"
  }
 },
 "nbformat": 4,
 "nbformat_minor": 2
}

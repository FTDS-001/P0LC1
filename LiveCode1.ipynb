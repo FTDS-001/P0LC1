{
  "nbformat": 4,
  "nbformat_minor": 0,
  "metadata": {
    "colab": {
      "name": "LiveCode1.ipynb",
      "provenance": [],
      "collapsed_sections": []
    },
    "kernelspec": {
      "name": "python3",
      "display_name": "Python 3"
    },
    "language_info": {
      "name": "python"
    }
  },
  "cells": [
    {
      "cell_type": "markdown",
      "metadata": {
        "id": "wq8h-hzXe-Rl"
      },
      "source": [
        "1.Introducing\n",
        "\n",
        "Nama : Praduta Firman\n",
        "\n",
        "Data Science : Batch 01"
      ]
    },
    {
      "cell_type": "markdown",
      "metadata": {
        "id": "UazhmsgFgz0T"
      },
      "source": [
        "2.Judul/Penanda Soal\n",
        "Promblems :\n",
        "## Saya adalah seorang data scientist yang bekerja di salah satu perusahaan manufaktur baterai Lihtium ion. Tim produksi meminta saya untuk mengecek apakah baterai yang mereka buat dalam kondisi bagus atau tidak. Sebelum melakukan pengecekan lebih lanjut, kamu diminta menghitung hambatan/resistansi  dan daya setiap detik :\n",
        "R = V / I\n",
        "\n",
        "P = V*I\n",
        "\n",
        "R adalah kapasitas dalam satuan ohm\n",
        "P adalah daya dalam watt\n",
        "I adalah kuat arus dalam satuan ampere\n",
        "V adalah tegangan dalam satuan volt\n",
        "\n",
        "Hitung hambatan baterai setiap waktunya untuk cycle ganjil dan daya baterai tiap waktunya untuk cycle genap dari dataset dengan ketentuan sebagai berikut :\n",
        "\n",
        "(1) Gunakan function untuk menghitung hambatan dan daya\n",
        "\n",
        "(2) Harus menerapkan konsep looping, conditional if, dan pandas query\n"
      ]
    },
    {
      "cell_type": "markdown",
      "metadata": {
        "id": "-gHcxmS0kfMi"
      },
      "source": [
        "3.Import Library :"
      ]
    },
    {
      "cell_type": "code",
      "metadata": {
        "id": "1gEZ3qvnkruH"
      },
      "source": [
        "import numpy as np\n",
        "import pandas as pd\n"
      ],
      "execution_count": 1,
      "outputs": []
    },
    {
      "cell_type": "markdown",
      "metadata": {
        "id": "24QWMS9wlSSP"
      },
      "source": [
        "4.Data Loading\n",
        "\n"
      ]
    },
    {
      "cell_type": "code",
      "metadata": {
        "id": "_06T-vchlc3q"
      },
      "source": [
        "df = pd.read_excel('NMC1-9.xlsx')"
      ],
      "execution_count": 25,
      "outputs": []
    },
    {
      "cell_type": "code",
      "metadata": {
        "colab": {
          "base_uri": "https://localhost:8080/",
          "height": 665
        },
        "id": "aWrwP8cXpZT-",
        "outputId": "b37aa88d-73c8-47cc-9ab5-318754fdcb23"
      },
      "source": [
        "df.head(20)"
      ],
      "execution_count": 28,
      "outputs": [
        {
          "output_type": "execute_result",
          "data": {
            "text/html": [
              "<div>\n",
              "<style scoped>\n",
              "    .dataframe tbody tr th:only-of-type {\n",
              "        vertical-align: middle;\n",
              "    }\n",
              "\n",
              "    .dataframe tbody tr th {\n",
              "        vertical-align: top;\n",
              "    }\n",
              "\n",
              "    .dataframe thead th {\n",
              "        text-align: right;\n",
              "    }\n",
              "</style>\n",
              "<table border=\"1\" class=\"dataframe\">\n",
              "  <thead>\n",
              "    <tr style=\"text-align: right;\">\n",
              "      <th></th>\n",
              "      <th>time(s)</th>\n",
              "      <th>V_m</th>\n",
              "      <th>Current (A)</th>\n",
              "      <th>Cycle</th>\n",
              "      <th>Cap</th>\n",
              "    </tr>\n",
              "  </thead>\n",
              "  <tbody>\n",
              "    <tr>\n",
              "      <th>0</th>\n",
              "      <td>0</td>\n",
              "      <td>4.098</td>\n",
              "      <td>0.997</td>\n",
              "      <td>1</td>\n",
              "      <td>2.840817</td>\n",
              "    </tr>\n",
              "    <tr>\n",
              "      <th>1</th>\n",
              "      <td>1</td>\n",
              "      <td>4.096</td>\n",
              "      <td>0.998</td>\n",
              "      <td>1</td>\n",
              "      <td>2.840817</td>\n",
              "    </tr>\n",
              "    <tr>\n",
              "      <th>2</th>\n",
              "      <td>2</td>\n",
              "      <td>4.094</td>\n",
              "      <td>0.999</td>\n",
              "      <td>1</td>\n",
              "      <td>2.840817</td>\n",
              "    </tr>\n",
              "    <tr>\n",
              "      <th>3</th>\n",
              "      <td>3</td>\n",
              "      <td>4.093</td>\n",
              "      <td>0.998</td>\n",
              "      <td>1</td>\n",
              "      <td>2.840817</td>\n",
              "    </tr>\n",
              "    <tr>\n",
              "      <th>4</th>\n",
              "      <td>4</td>\n",
              "      <td>4.092</td>\n",
              "      <td>0.999</td>\n",
              "      <td>1</td>\n",
              "      <td>2.840817</td>\n",
              "    </tr>\n",
              "    <tr>\n",
              "      <th>5</th>\n",
              "      <td>5</td>\n",
              "      <td>4.091</td>\n",
              "      <td>0.997</td>\n",
              "      <td>1</td>\n",
              "      <td>2.840817</td>\n",
              "    </tr>\n",
              "    <tr>\n",
              "      <th>6</th>\n",
              "      <td>6</td>\n",
              "      <td>4.090</td>\n",
              "      <td>0.996</td>\n",
              "      <td>1</td>\n",
              "      <td>2.840817</td>\n",
              "    </tr>\n",
              "    <tr>\n",
              "      <th>7</th>\n",
              "      <td>7</td>\n",
              "      <td>4.089</td>\n",
              "      <td>0.996</td>\n",
              "      <td>1</td>\n",
              "      <td>2.840817</td>\n",
              "    </tr>\n",
              "    <tr>\n",
              "      <th>8</th>\n",
              "      <td>8</td>\n",
              "      <td>4.089</td>\n",
              "      <td>0.995</td>\n",
              "      <td>1</td>\n",
              "      <td>2.840817</td>\n",
              "    </tr>\n",
              "    <tr>\n",
              "      <th>9</th>\n",
              "      <td>9</td>\n",
              "      <td>4.088</td>\n",
              "      <td>0.995</td>\n",
              "      <td>1</td>\n",
              "      <td>2.840817</td>\n",
              "    </tr>\n",
              "    <tr>\n",
              "      <th>10</th>\n",
              "      <td>10</td>\n",
              "      <td>4.088</td>\n",
              "      <td>0.996</td>\n",
              "      <td>1</td>\n",
              "      <td>2.840817</td>\n",
              "    </tr>\n",
              "    <tr>\n",
              "      <th>11</th>\n",
              "      <td>11</td>\n",
              "      <td>4.087</td>\n",
              "      <td>0.996</td>\n",
              "      <td>1</td>\n",
              "      <td>2.840817</td>\n",
              "    </tr>\n",
              "    <tr>\n",
              "      <th>12</th>\n",
              "      <td>12</td>\n",
              "      <td>4.086</td>\n",
              "      <td>0.997</td>\n",
              "      <td>1</td>\n",
              "      <td>2.840817</td>\n",
              "    </tr>\n",
              "    <tr>\n",
              "      <th>13</th>\n",
              "      <td>13</td>\n",
              "      <td>4.086</td>\n",
              "      <td>0.998</td>\n",
              "      <td>1</td>\n",
              "      <td>2.840817</td>\n",
              "    </tr>\n",
              "    <tr>\n",
              "      <th>14</th>\n",
              "      <td>14</td>\n",
              "      <td>4.086</td>\n",
              "      <td>0.999</td>\n",
              "      <td>1</td>\n",
              "      <td>2.840817</td>\n",
              "    </tr>\n",
              "    <tr>\n",
              "      <th>15</th>\n",
              "      <td>15</td>\n",
              "      <td>4.085</td>\n",
              "      <td>1.000</td>\n",
              "      <td>1</td>\n",
              "      <td>2.840817</td>\n",
              "    </tr>\n",
              "    <tr>\n",
              "      <th>16</th>\n",
              "      <td>16</td>\n",
              "      <td>4.085</td>\n",
              "      <td>1.001</td>\n",
              "      <td>1</td>\n",
              "      <td>2.840817</td>\n",
              "    </tr>\n",
              "    <tr>\n",
              "      <th>17</th>\n",
              "      <td>17</td>\n",
              "      <td>4.084</td>\n",
              "      <td>1.001</td>\n",
              "      <td>1</td>\n",
              "      <td>2.840817</td>\n",
              "    </tr>\n",
              "    <tr>\n",
              "      <th>18</th>\n",
              "      <td>18</td>\n",
              "      <td>4.084</td>\n",
              "      <td>1.001</td>\n",
              "      <td>1</td>\n",
              "      <td>2.840817</td>\n",
              "    </tr>\n",
              "    <tr>\n",
              "      <th>19</th>\n",
              "      <td>19</td>\n",
              "      <td>4.083</td>\n",
              "      <td>1.000</td>\n",
              "      <td>1</td>\n",
              "      <td>2.840817</td>\n",
              "    </tr>\n",
              "  </tbody>\n",
              "</table>\n",
              "</div>"
            ],
            "text/plain": [
              "    time(s)    V_m  Current (A)  Cycle       Cap\n",
              "0         0  4.098        0.997      1  2.840817\n",
              "1         1  4.096        0.998      1  2.840817\n",
              "2         2  4.094        0.999      1  2.840817\n",
              "3         3  4.093        0.998      1  2.840817\n",
              "4         4  4.092        0.999      1  2.840817\n",
              "5         5  4.091        0.997      1  2.840817\n",
              "6         6  4.090        0.996      1  2.840817\n",
              "7         7  4.089        0.996      1  2.840817\n",
              "8         8  4.089        0.995      1  2.840817\n",
              "9         9  4.088        0.995      1  2.840817\n",
              "10       10  4.088        0.996      1  2.840817\n",
              "11       11  4.087        0.996      1  2.840817\n",
              "12       12  4.086        0.997      1  2.840817\n",
              "13       13  4.086        0.998      1  2.840817\n",
              "14       14  4.086        0.999      1  2.840817\n",
              "15       15  4.085        1.000      1  2.840817\n",
              "16       16  4.085        1.001      1  2.840817\n",
              "17       17  4.084        1.001      1  2.840817\n",
              "18       18  4.084        1.001      1  2.840817\n",
              "19       19  4.083        1.000      1  2.840817"
            ]
          },
          "metadata": {
            "tags": []
          },
          "execution_count": 28
        }
      ]
    },
    {
      "cell_type": "code",
      "metadata": {
        "colab": {
          "base_uri": "https://localhost:8080/"
        },
        "id": "4h9T8Cx2p1BQ",
        "outputId": "6e6d44f4-511c-42f0-a536-c748f0e8f300"
      },
      "source": [
        "df['time(s)']"
      ],
      "execution_count": 30,
      "outputs": [
        {
          "output_type": "execute_result",
          "data": {
            "text/plain": [
              "0            0\n",
              "1            1\n",
              "2            2\n",
              "3            3\n",
              "4            4\n",
              "         ...  \n",
              "90977    90977\n",
              "90978    90978\n",
              "90979    90979\n",
              "90980    90980\n",
              "90981    90981\n",
              "Name: time(s), Length: 90982, dtype: int64"
            ]
          },
          "metadata": {
            "tags": []
          },
          "execution_count": 30
        }
      ]
    },
    {
      "cell_type": "code",
      "metadata": {
        "colab": {
          "base_uri": "https://localhost:8080/"
        },
        "id": "cWXWKxalqZMN",
        "outputId": "00451032-1d9e-4711-c50f-021016b0eab0"
      },
      "source": [
        "df['time(s)'].isnull()"
      ],
      "execution_count": 31,
      "outputs": [
        {
          "output_type": "execute_result",
          "data": {
            "text/plain": [
              "0        False\n",
              "1        False\n",
              "2        False\n",
              "3        False\n",
              "4        False\n",
              "         ...  \n",
              "90977    False\n",
              "90978    False\n",
              "90979    False\n",
              "90980    False\n",
              "90981    False\n",
              "Name: time(s), Length: 90982, dtype: bool"
            ]
          },
          "metadata": {
            "tags": []
          },
          "execution_count": 31
        }
      ]
    },
    {
      "cell_type": "code",
      "metadata": {
        "colab": {
          "base_uri": "https://localhost:8080/"
        },
        "id": "1TQdoVpJqta8",
        "outputId": "e56e43ed-420b-41a5-c371-c26c0fd99393"
      },
      "source": [
        "df['V_m']"
      ],
      "execution_count": 32,
      "outputs": [
        {
          "output_type": "execute_result",
          "data": {
            "text/plain": [
              "0        4.098\n",
              "1        4.096\n",
              "2        4.094\n",
              "3        4.093\n",
              "4        4.092\n",
              "         ...  \n",
              "90977    2.506\n",
              "90978    2.504\n",
              "90979    2.502\n",
              "90980    2.500\n",
              "90981    2.497\n",
              "Name: V_m, Length: 90982, dtype: float64"
            ]
          },
          "metadata": {
            "tags": []
          },
          "execution_count": 32
        }
      ]
    },
    {
      "cell_type": "code",
      "metadata": {
        "colab": {
          "base_uri": "https://localhost:8080/"
        },
        "id": "4dgaok_MrFeV",
        "outputId": "297ffa37-6844-476f-c7ca-6438e4f94b00"
      },
      "source": [
        "df['V_m'].isnull()"
      ],
      "execution_count": 34,
      "outputs": [
        {
          "output_type": "execute_result",
          "data": {
            "text/plain": [
              "0        False\n",
              "1        False\n",
              "2        False\n",
              "3        False\n",
              "4        False\n",
              "         ...  \n",
              "90977    False\n",
              "90978    False\n",
              "90979    False\n",
              "90980    False\n",
              "90981    False\n",
              "Name: V_m, Length: 90982, dtype: bool"
            ]
          },
          "metadata": {
            "tags": []
          },
          "execution_count": 34
        }
      ]
    },
    {
      "cell_type": "code",
      "metadata": {
        "colab": {
          "base_uri": "https://localhost:8080/"
        },
        "id": "3QiU2Bb_roKs",
        "outputId": "036a4238-c377-495b-e20b-fc17407c9cd5"
      },
      "source": [
        "df['Current (A)']"
      ],
      "execution_count": 35,
      "outputs": [
        {
          "output_type": "execute_result",
          "data": {
            "text/plain": [
              "0        0.997\n",
              "1        0.998\n",
              "2        0.999\n",
              "3        0.998\n",
              "4        0.999\n",
              "         ...  \n",
              "90977    1.002\n",
              "90978    1.002\n",
              "90979    1.002\n",
              "90980    1.002\n",
              "90981    1.002\n",
              "Name: Current (A), Length: 90982, dtype: float64"
            ]
          },
          "metadata": {
            "tags": []
          },
          "execution_count": 35
        }
      ]
    },
    {
      "cell_type": "code",
      "metadata": {
        "colab": {
          "base_uri": "https://localhost:8080/"
        },
        "id": "o2-txAX3rvo5",
        "outputId": "4e0e7937-7a4c-4428-9aa6-3162606b6d5d"
      },
      "source": [
        "df['Current (A)'].isnull()"
      ],
      "execution_count": 36,
      "outputs": [
        {
          "output_type": "execute_result",
          "data": {
            "text/plain": [
              "0        False\n",
              "1        False\n",
              "2        False\n",
              "3        False\n",
              "4        False\n",
              "         ...  \n",
              "90977    False\n",
              "90978    False\n",
              "90979    False\n",
              "90980    False\n",
              "90981    False\n",
              "Name: Current (A), Length: 90982, dtype: bool"
            ]
          },
          "metadata": {
            "tags": []
          },
          "execution_count": 36
        }
      ]
    },
    {
      "cell_type": "code",
      "metadata": {
        "colab": {
          "base_uri": "https://localhost:8080/"
        },
        "id": "QfGhk6wer86O",
        "outputId": "9b48b0fd-01d6-4a91-b18c-3c9cde6fbf43"
      },
      "source": [
        "df.isnull().sum()"
      ],
      "execution_count": 37,
      "outputs": [
        {
          "output_type": "execute_result",
          "data": {
            "text/plain": [
              "time(s)        0\n",
              "V_m            0\n",
              "Current (A)    0\n",
              "Cycle          0\n",
              "Cap            0\n",
              "dtype: int64"
            ]
          },
          "metadata": {
            "tags": []
          },
          "execution_count": 37
        }
      ]
    },
    {
      "cell_type": "code",
      "metadata": {
        "colab": {
          "base_uri": "https://localhost:8080/"
        },
        "id": "_ktKKn9WsHd-",
        "outputId": "5f9b3609-e8d8-43ad-db17-724543851fdd"
      },
      "source": [
        "df.isnull().values.any()"
      ],
      "execution_count": 38,
      "outputs": [
        {
          "output_type": "execute_result",
          "data": {
            "text/plain": [
              "False"
            ]
          },
          "metadata": {
            "tags": []
          },
          "execution_count": 38
        }
      ]
    },
    {
      "cell_type": "code",
      "metadata": {
        "colab": {
          "base_uri": "https://localhost:8080/"
        },
        "id": "osXDampVtXGh",
        "outputId": "4c5f78b9-36ac-49d5-f9b0-c01b3e273ce4"
      },
      "source": [
        "df['Cap'].value_counts()"
      ],
      "execution_count": 39,
      "outputs": [
        {
          "output_type": "execute_result",
          "data": {
            "text/plain": [
              "2.840817    10237\n",
              "2.833465    10206\n",
              "2.823520    10175\n",
              "2.820395    10158\n",
              "2.804878    10107\n",
              "2.790726    10050\n",
              "2.786860    10041\n",
              "2.783342    10028\n",
              "2.770180     9980\n",
              "Name: Cap, dtype: int64"
            ]
          },
          "metadata": {
            "tags": []
          },
          "execution_count": 39
        }
      ]
    },
    {
      "cell_type": "markdown",
      "metadata": {
        "id": "YkivDmursTcd"
      },
      "source": [
        "5.Answer\n",
        "\n",
        "1.Menghitung Hambatan baterai untuk cycle ganjil\n",
        "\n",
        "R = V/I\n",
        "\n",
        "2.Menghitung Daya baterai untuk cycle genap\n",
        "\n",
        "P = V*I"
      ]
    },
    {
      "cell_type": "code",
      "metadata": {
        "colab": {
          "base_uri": "https://localhost:8080/"
        },
        "id": "NZL4S0B2sggU",
        "outputId": "1e595cc5-f003-4b28-8291-d6865e179b84"
      },
      "source": [
        "V = float(input(\"masukkan tegangan listrik :\"))\n",
        "I = float(input(\"masukkan besarnya arus listrik :\"))\n",
        "\n",
        "R = V/I\n",
        "print(\"Hambatan Listrik dengan rumus R=V/I\",R)\n"
      ],
      "execution_count": 42,
      "outputs": [
        {
          "output_type": "stream",
          "text": [
            "masukkan tegangan listrik :4.096\n",
            "masukkan besarnya arus listrik :0.998\n",
            "Hambatan Listrik dengan rumus R=V/I 4.104208416833667\n"
          ],
          "name": "stdout"
        }
      ]
    },
    {
      "cell_type": "code",
      "metadata": {
        "colab": {
          "base_uri": "https://localhost:8080/"
        },
        "id": "NL9GQI29wi__",
        "outputId": "54f6185c-1753-45c9-937e-3fe58cac3a78"
      },
      "source": [
        "ganjil = [1,3,5,7,9,11,13,15,17,19]\n",
        "genap = [2,4,6,8,10,12,14,16,18,20]\n",
        "\n",
        "for cycle in ganjil:\n",
        "  print(cycle)\n",
        "\n",
        "if cycle == 17:\n",
        "  print(cycle)"
      ],
      "execution_count": 78,
      "outputs": [
        {
          "output_type": "stream",
          "text": [
            "1\n",
            "3\n",
            "5\n",
            "7\n",
            "9\n",
            "11\n",
            "13\n",
            "15\n",
            "17\n",
            "19\n"
          ],
          "name": "stdout"
        }
      ]
    },
    {
      "cell_type": "code",
      "metadata": {
        "colab": {
          "base_uri": "https://localhost:8080/"
        },
        "id": "-auI6fvY5Vgy",
        "outputId": "46425a7f-a1be-47ac-f7c1-e2fb118c4ba1"
      },
      "source": [
        "V = float(input(\"masukkan tegangan listrik :\"))\n",
        "I = float(input(\"masukkan arus listrik :\"))\n",
        "\n",
        "P = V*I\n",
        "print(\"Daya listrik dengan rumus P=V*I\",P)"
      ],
      "execution_count": 64,
      "outputs": [
        {
          "output_type": "stream",
          "text": [
            "masukkan tegangan listrik :4.094\n",
            "masukkan arus listrik :0.999\n",
            "Daya listrik dengan rumus P=V*I 4.089906\n"
          ],
          "name": "stdout"
        }
      ]
    },
    {
      "cell_type": "code",
      "metadata": {
        "colab": {
          "base_uri": "https://localhost:8080/"
        },
        "id": "i3JAvDbl8So7",
        "outputId": "e6390f32-ae09-47da-8a0f-e7e63f9f7fc9"
      },
      "source": [
        "genap = [2,4,6,8,10,12,14,16,18,20]\n",
        "\n",
        "for cycle in genap:\n",
        "  print(cycle)"
      ],
      "execution_count": 79,
      "outputs": [
        {
          "output_type": "stream",
          "text": [
            "2\n",
            "4\n",
            "6\n",
            "8\n",
            "10\n",
            "12\n",
            "14\n",
            "16\n",
            "18\n",
            "20\n"
          ],
          "name": "stdout"
        }
      ]
    },
    {
      "cell_type": "markdown",
      "metadata": {
        "id": "K8Ue6eBv-zWP"
      },
      "source": [
        "Pandas Query"
      ]
    },
    {
      "cell_type": "code",
      "metadata": {
        "colab": {
          "base_uri": "https://localhost:8080/",
          "height": 417
        },
        "id": "0Fz4itIg-so0",
        "outputId": "bbdae101-72b9-4dee-f942-d5f96d3ee702"
      },
      "source": [
        "df"
      ],
      "execution_count": 81,
      "outputs": [
        {
          "output_type": "execute_result",
          "data": {
            "text/html": [
              "<div>\n",
              "<style scoped>\n",
              "    .dataframe tbody tr th:only-of-type {\n",
              "        vertical-align: middle;\n",
              "    }\n",
              "\n",
              "    .dataframe tbody tr th {\n",
              "        vertical-align: top;\n",
              "    }\n",
              "\n",
              "    .dataframe thead th {\n",
              "        text-align: right;\n",
              "    }\n",
              "</style>\n",
              "<table border=\"1\" class=\"dataframe\">\n",
              "  <thead>\n",
              "    <tr style=\"text-align: right;\">\n",
              "      <th></th>\n",
              "      <th>time(s)</th>\n",
              "      <th>V_m</th>\n",
              "      <th>Current (A)</th>\n",
              "      <th>Cycle</th>\n",
              "      <th>Cap</th>\n",
              "    </tr>\n",
              "  </thead>\n",
              "  <tbody>\n",
              "    <tr>\n",
              "      <th>0</th>\n",
              "      <td>0</td>\n",
              "      <td>4.098</td>\n",
              "      <td>0.997</td>\n",
              "      <td>1</td>\n",
              "      <td>2.840817</td>\n",
              "    </tr>\n",
              "    <tr>\n",
              "      <th>1</th>\n",
              "      <td>1</td>\n",
              "      <td>4.096</td>\n",
              "      <td>0.998</td>\n",
              "      <td>1</td>\n",
              "      <td>2.840817</td>\n",
              "    </tr>\n",
              "    <tr>\n",
              "      <th>2</th>\n",
              "      <td>2</td>\n",
              "      <td>4.094</td>\n",
              "      <td>0.999</td>\n",
              "      <td>1</td>\n",
              "      <td>2.840817</td>\n",
              "    </tr>\n",
              "    <tr>\n",
              "      <th>3</th>\n",
              "      <td>3</td>\n",
              "      <td>4.093</td>\n",
              "      <td>0.998</td>\n",
              "      <td>1</td>\n",
              "      <td>2.840817</td>\n",
              "    </tr>\n",
              "    <tr>\n",
              "      <th>4</th>\n",
              "      <td>4</td>\n",
              "      <td>4.092</td>\n",
              "      <td>0.999</td>\n",
              "      <td>1</td>\n",
              "      <td>2.840817</td>\n",
              "    </tr>\n",
              "    <tr>\n",
              "      <th>...</th>\n",
              "      <td>...</td>\n",
              "      <td>...</td>\n",
              "      <td>...</td>\n",
              "      <td>...</td>\n",
              "      <td>...</td>\n",
              "    </tr>\n",
              "    <tr>\n",
              "      <th>90977</th>\n",
              "      <td>90977</td>\n",
              "      <td>2.506</td>\n",
              "      <td>1.002</td>\n",
              "      <td>9</td>\n",
              "      <td>2.770180</td>\n",
              "    </tr>\n",
              "    <tr>\n",
              "      <th>90978</th>\n",
              "      <td>90978</td>\n",
              "      <td>2.504</td>\n",
              "      <td>1.002</td>\n",
              "      <td>9</td>\n",
              "      <td>2.770180</td>\n",
              "    </tr>\n",
              "    <tr>\n",
              "      <th>90979</th>\n",
              "      <td>90979</td>\n",
              "      <td>2.502</td>\n",
              "      <td>1.002</td>\n",
              "      <td>9</td>\n",
              "      <td>2.770180</td>\n",
              "    </tr>\n",
              "    <tr>\n",
              "      <th>90980</th>\n",
              "      <td>90980</td>\n",
              "      <td>2.500</td>\n",
              "      <td>1.002</td>\n",
              "      <td>9</td>\n",
              "      <td>2.770180</td>\n",
              "    </tr>\n",
              "    <tr>\n",
              "      <th>90981</th>\n",
              "      <td>90981</td>\n",
              "      <td>2.497</td>\n",
              "      <td>1.002</td>\n",
              "      <td>9</td>\n",
              "      <td>2.770180</td>\n",
              "    </tr>\n",
              "  </tbody>\n",
              "</table>\n",
              "<p>90982 rows × 5 columns</p>\n",
              "</div>"
            ],
            "text/plain": [
              "       time(s)    V_m  Current (A)  Cycle       Cap\n",
              "0            0  4.098        0.997      1  2.840817\n",
              "1            1  4.096        0.998      1  2.840817\n",
              "2            2  4.094        0.999      1  2.840817\n",
              "3            3  4.093        0.998      1  2.840817\n",
              "4            4  4.092        0.999      1  2.840817\n",
              "...        ...    ...          ...    ...       ...\n",
              "90977    90977  2.506        1.002      9  2.770180\n",
              "90978    90978  2.504        1.002      9  2.770180\n",
              "90979    90979  2.502        1.002      9  2.770180\n",
              "90980    90980  2.500        1.002      9  2.770180\n",
              "90981    90981  2.497        1.002      9  2.770180\n",
              "\n",
              "[90982 rows x 5 columns]"
            ]
          },
          "metadata": {
            "tags": []
          },
          "execution_count": 81
        }
      ]
    },
    {
      "cell_type": "code",
      "metadata": {
        "colab": {
          "base_uri": "https://localhost:8080/",
          "height": 203
        },
        "id": "IxHpVEnO-7pF",
        "outputId": "08bf083e-1c18-43e3-ac5b-5ee9082541d8"
      },
      "source": [
        "df.tail()"
      ],
      "execution_count": 82,
      "outputs": [
        {
          "output_type": "execute_result",
          "data": {
            "text/html": [
              "<div>\n",
              "<style scoped>\n",
              "    .dataframe tbody tr th:only-of-type {\n",
              "        vertical-align: middle;\n",
              "    }\n",
              "\n",
              "    .dataframe tbody tr th {\n",
              "        vertical-align: top;\n",
              "    }\n",
              "\n",
              "    .dataframe thead th {\n",
              "        text-align: right;\n",
              "    }\n",
              "</style>\n",
              "<table border=\"1\" class=\"dataframe\">\n",
              "  <thead>\n",
              "    <tr style=\"text-align: right;\">\n",
              "      <th></th>\n",
              "      <th>time(s)</th>\n",
              "      <th>V_m</th>\n",
              "      <th>Current (A)</th>\n",
              "      <th>Cycle</th>\n",
              "      <th>Cap</th>\n",
              "    </tr>\n",
              "  </thead>\n",
              "  <tbody>\n",
              "    <tr>\n",
              "      <th>90977</th>\n",
              "      <td>90977</td>\n",
              "      <td>2.506</td>\n",
              "      <td>1.002</td>\n",
              "      <td>9</td>\n",
              "      <td>2.77018</td>\n",
              "    </tr>\n",
              "    <tr>\n",
              "      <th>90978</th>\n",
              "      <td>90978</td>\n",
              "      <td>2.504</td>\n",
              "      <td>1.002</td>\n",
              "      <td>9</td>\n",
              "      <td>2.77018</td>\n",
              "    </tr>\n",
              "    <tr>\n",
              "      <th>90979</th>\n",
              "      <td>90979</td>\n",
              "      <td>2.502</td>\n",
              "      <td>1.002</td>\n",
              "      <td>9</td>\n",
              "      <td>2.77018</td>\n",
              "    </tr>\n",
              "    <tr>\n",
              "      <th>90980</th>\n",
              "      <td>90980</td>\n",
              "      <td>2.500</td>\n",
              "      <td>1.002</td>\n",
              "      <td>9</td>\n",
              "      <td>2.77018</td>\n",
              "    </tr>\n",
              "    <tr>\n",
              "      <th>90981</th>\n",
              "      <td>90981</td>\n",
              "      <td>2.497</td>\n",
              "      <td>1.002</td>\n",
              "      <td>9</td>\n",
              "      <td>2.77018</td>\n",
              "    </tr>\n",
              "  </tbody>\n",
              "</table>\n",
              "</div>"
            ],
            "text/plain": [
              "       time(s)    V_m  Current (A)  Cycle      Cap\n",
              "90977    90977  2.506        1.002      9  2.77018\n",
              "90978    90978  2.504        1.002      9  2.77018\n",
              "90979    90979  2.502        1.002      9  2.77018\n",
              "90980    90980  2.500        1.002      9  2.77018\n",
              "90981    90981  2.497        1.002      9  2.77018"
            ]
          },
          "metadata": {
            "tags": []
          },
          "execution_count": 82
        }
      ]
    },
    {
      "cell_type": "markdown",
      "metadata": {
        "id": "jFYOaP68_LIZ"
      },
      "source": [
        "6.Hasil\n",
        "\n",
        "R = V/I\n",
        "pada cycle ganjil di antaranya\n",
        "\n",
        "R = 4.096/0.998\n",
        "  = 4.10420\n",
        "\n",
        "P = V*I\n",
        "pada cycle genap di antaranya\n",
        "\n",
        "P = 4.094 * 0.999\n",
        "  = 4.0899"
      ]
    }
  ]
}
{
 "metadata": {
  "language_info": {
   "codemirror_mode": {
    "name": "ipython",
    "version": 3
   },
   "file_extension": ".py",
   "mimetype": "text/x-python",
   "name": "python",
   "nbconvert_exporter": "python",
   "pygments_lexer": "ipython3",
   "version": "3.6.8"
  },
  "orig_nbformat": 4,
  "kernelspec": {
   "name": "python3",
   "display_name": "Python 3.6.8 64-bit"
  },
  "interpreter": {
   "hash": "83f30b26af0a87ee706a28a959f6642ad0a1d134e1eb968313f9a3da2b9bf57d"
  }
 },
 "nbformat": 4,
 "nbformat_minor": 2,
 "cells": [
  {
   "source": [
    "# Live Code Week 1 Fase 0\n",
    "\n",
    "Arief Luqmannurhakim  --  Batch 001"
   ],
   "cell_type": "markdown",
   "metadata": {}
  },
  {
   "cell_type": "code",
   "execution_count": 3,
   "metadata": {},
   "outputs": [],
   "source": [
    "import numpy as np\n",
    "import pandas as pd"
   ]
  },
  {
   "source": [
    "# Soal No 1\n",
    "\n",
    "\n",
    "\n",
    "\n",
    "R=  V / I\n",
    "\n",
    "P=  VI\n",
    "\n",
    "R adalah Kapasitas dalam satuan Ohm\n",
    "P adalah Daya dalam Watt\n",
    "I adalah kuat arus dalam satuan Ampere\n",
    "V adalah tegangan dalam satuan Volt\n",
    "Hitung kapasitas baterai tiap waktunya untuk cycle ganjil dan daya baterai tiap waktunya untuk cycle genap dari dataset dengan ketentuan sebagai berikut:\n",
    "\n",
    "Gunakan function untuk menghitung hambatan dan daya\n",
    "Harus menerapkan konsep looping, conditional if, dan pandas query\n"
   ],
   "cell_type": "markdown",
   "metadata": {}
  },
  {
   "source": [
    "### read dataset"
   ],
   "cell_type": "markdown",
   "metadata": {}
  },
  {
   "cell_type": "code",
   "execution_count": 192,
   "metadata": {},
   "outputs": [
    {
     "output_type": "execute_result",
     "data": {
      "text/plain": [
       "   time(s)    V_m  Current (A)  Cycle       Cap\n",
       "0        0  4.098        0.997      1  2.840817\n",
       "1        1  4.096        0.998      1  2.840817\n",
       "2        2  4.094        0.999      1  2.840817\n",
       "3        3  4.093        0.998      1  2.840817\n",
       "4        4  4.092        0.999      1  2.840817"
      ],
      "text/html": "<div>\n<style scoped>\n    .dataframe tbody tr th:only-of-type {\n        vertical-align: middle;\n    }\n\n    .dataframe tbody tr th {\n        vertical-align: top;\n    }\n\n    .dataframe thead th {\n        text-align: right;\n    }\n</style>\n<table border=\"1\" class=\"dataframe\">\n  <thead>\n    <tr style=\"text-align: right;\">\n      <th></th>\n      <th>time(s)</th>\n      <th>V_m</th>\n      <th>Current (A)</th>\n      <th>Cycle</th>\n      <th>Cap</th>\n    </tr>\n  </thead>\n  <tbody>\n    <tr>\n      <td>0</td>\n      <td>0</td>\n      <td>4.098</td>\n      <td>0.997</td>\n      <td>1</td>\n      <td>2.840817</td>\n    </tr>\n    <tr>\n      <td>1</td>\n      <td>1</td>\n      <td>4.096</td>\n      <td>0.998</td>\n      <td>1</td>\n      <td>2.840817</td>\n    </tr>\n    <tr>\n      <td>2</td>\n      <td>2</td>\n      <td>4.094</td>\n      <td>0.999</td>\n      <td>1</td>\n      <td>2.840817</td>\n    </tr>\n    <tr>\n      <td>3</td>\n      <td>3</td>\n      <td>4.093</td>\n      <td>0.998</td>\n      <td>1</td>\n      <td>2.840817</td>\n    </tr>\n    <tr>\n      <td>4</td>\n      <td>4</td>\n      <td>4.092</td>\n      <td>0.999</td>\n      <td>1</td>\n      <td>2.840817</td>\n    </tr>\n  </tbody>\n</table>\n</div>"
     },
     "metadata": {},
     "execution_count": 192
    }
   ],
   "source": [
    "df = pd.read_excel('NMC1-9.xlsx', engine='openpyxl')\n",
    "df.head()"
   ]
  },
  {
   "source": [
    "### Create function "
   ],
   "cell_type": "markdown",
   "metadata": {}
  },
  {
   "cell_type": "code",
   "execution_count": 181,
   "metadata": {},
   "outputs": [],
   "source": [
    "def batt_capacity(Volt, Arus):\n",
    "    \n",
    "    answer = np.array([[]])\n",
    "    # Daya\n",
    "    # P = Volt * Arus\n",
    "    daya_P = Volt * Arus\n",
    "\n",
    "    # Kapasitas (Ohm)\n",
    "    # R = Volt / Arus\n",
    "    ohm_R = Volt / Arus\n",
    "\n",
    "    return np.array([daya_P, ohm_R])\n"
   ]
  },
  {
   "source": [
    "### Slice dataset for odd and even cycle"
   ],
   "cell_type": "markdown",
   "metadata": {}
  },
  {
   "cell_type": "code",
   "execution_count": 182,
   "metadata": {},
   "outputs": [
    {
     "output_type": "stream",
     "name": "stdout",
     "text": [
      "       time(s)    V_m  Current (A)  Cycle       Cap\n10237    10237  4.111        0.993      2  2.833465\n10238    10238  4.110        0.995      2  2.833465\n10239    10239  4.108        0.998      2  2.833465\n10240    10240  4.107        0.999      2  2.833465\n10241    10241  4.107        1.001      2  2.833465\n...        ...    ...          ...    ...       ...\n80997    80997  2.508        1.000      8  2.783342\n80998    80998  2.505        0.999      8  2.783342\n80999    80999  2.503        0.999      8  2.783342\n81000    81000  2.501        0.999      8  2.783342\n81001    81001  2.499        1.000      8  2.783342\n\n[40442 rows x 5 columns]\n===========================================\n       time(s)    V_m  Current (A)  Cycle       Cap\n0            0  4.098        0.997      1  2.840817\n1            1  4.096        0.998      1  2.840817\n2            2  4.094        0.999      1  2.840817\n3            3  4.093        0.998      1  2.840817\n4            4  4.092        0.999      1  2.840817\n...        ...    ...          ...    ...       ...\n90977    90977  2.506        1.002      9  2.770180\n90978    90978  2.504        1.002      9  2.770180\n90979    90979  2.502        1.002      9  2.770180\n90980    90980  2.500        1.002      9  2.770180\n90981    90981  2.497        1.002      9  2.770180\n\n[50540 rows x 5 columns]\n"
     ]
    }
   ],
   "source": [
    "# Cycle genap --> R and P\n",
    "arr_input = df.loc[df['Cycle'] % 2 == 0]\n",
    "# Cycle ganjil --> R and P\n",
    "arr_input_ganjil = df.loc[df['Cycle'] % 2 != 0]\n",
    "print(arr_input)\n",
    "print('===========================================')\n",
    "print(arr_input_ganjil)"
   ]
  },
  {
   "source": [
    "### Loop and calcualte P and R for every cycle column-wise"
   ],
   "cell_type": "markdown",
   "metadata": {}
  },
  {
   "cell_type": "code",
   "execution_count": 183,
   "metadata": {
    "tags": []
   },
   "outputs": [],
   "source": [
    "genap_answer = np.empty((0,2))\n",
    "ganjil_answer = np.empty((0,2))\n",
    "x = 0\n",
    "# loop and get value for Even Cycle\n",
    "for i in arr_input[['V_m', 'Current (A)']].values:\n",
    "    # get P and R from function\n",
    "    # return array [P, R]\n",
    "    temp = batt_capacity(i[0], i[1])\n",
    "    genap_answer = np.vstack((genap_answer, temp))\n",
    "    # x += 1\n",
    "    # if x == 10:\n",
    "    #     break\n",
    "    \n",
    "# loop and get value for Odd Cycle\n",
    "for j in arr_input_ganjil[['V_m', 'Current (A)']].values:\n",
    "    temp_ans = batt_capacity(j[0], j[1])\n",
    "    ganjil_answer =  np.vstack((ganjil_answer, temp_ans))\n",
    "\n"
   ]
  },
  {
   "source": [
    "### check answer shape to match the daatset"
   ],
   "cell_type": "markdown",
   "metadata": {}
  },
  {
   "cell_type": "code",
   "execution_count": 184,
   "metadata": {},
   "outputs": [
    {
     "output_type": "execute_result",
     "data": {
      "text/plain": [
       "((40442, 2), (50540, 2))"
      ]
     },
     "metadata": {},
     "execution_count": 184
    }
   ],
   "source": [
    "genap_answer.shape, ganjil_answer.shape"
   ]
  },
  {
   "cell_type": "code",
   "execution_count": 185,
   "metadata": {},
   "outputs": [
    {
     "output_type": "execute_result",
     "data": {
      "text/plain": [
       "array([[4.085706  , 4.11033099],\n",
       "       [4.087808  , 4.10420842],\n",
       "       [4.089906  , 4.0980981 ],\n",
       "       ...,\n",
       "       [2.507004  , 2.49700599],\n",
       "       [2.505     , 2.49500998],\n",
       "       [2.501994  , 2.49201597]])"
      ]
     },
     "metadata": {},
     "execution_count": 185
    }
   ],
   "source": [
    "ganjil_answer"
   ]
  },
  {
   "source": [
    "### Done , create dataframe for P and R for both odd and even cycle"
   ],
   "cell_type": "markdown",
   "metadata": {}
  },
  {
   "cell_type": "code",
   "execution_count": 186,
   "metadata": {},
   "outputs": [],
   "source": [
    "df_ganjil = pd.DataFrame(ganjil_answer, columns=['ganjil_P', 'ganjil_R'])\n",
    "df_genap = pd.DataFrame(genap_answer, columns=['genap_P', 'genap_R'])"
   ]
  },
  {
   "cell_type": "code",
   "execution_count": 222,
   "metadata": {},
   "outputs": [
    {
     "output_type": "execute_result",
     "data": {
      "text/plain": [
       "       ganjil_P  ganjil_R\n",
       "0      4.085706  4.110331\n",
       "1      4.087808  4.104208\n",
       "2      4.089906  4.098098\n",
       "3      4.084814  4.101202\n",
       "4      4.087908  4.096096\n",
       "...         ...       ...\n",
       "50535  2.511012  2.500998\n",
       "50536  2.509008  2.499002\n",
       "50537  2.507004  2.497006\n",
       "50538  2.505000  2.495010\n",
       "50539  2.501994  2.492016\n",
       "\n",
       "[50540 rows x 2 columns]"
      ],
      "text/html": "<div>\n<style scoped>\n    .dataframe tbody tr th:only-of-type {\n        vertical-align: middle;\n    }\n\n    .dataframe tbody tr th {\n        vertical-align: top;\n    }\n\n    .dataframe thead th {\n        text-align: right;\n    }\n</style>\n<table border=\"1\" class=\"dataframe\">\n  <thead>\n    <tr style=\"text-align: right;\">\n      <th></th>\n      <th>ganjil_P</th>\n      <th>ganjil_R</th>\n    </tr>\n  </thead>\n  <tbody>\n    <tr>\n      <td>0</td>\n      <td>4.085706</td>\n      <td>4.110331</td>\n    </tr>\n    <tr>\n      <td>1</td>\n      <td>4.087808</td>\n      <td>4.104208</td>\n    </tr>\n    <tr>\n      <td>2</td>\n      <td>4.089906</td>\n      <td>4.098098</td>\n    </tr>\n    <tr>\n      <td>3</td>\n      <td>4.084814</td>\n      <td>4.101202</td>\n    </tr>\n    <tr>\n      <td>4</td>\n      <td>4.087908</td>\n      <td>4.096096</td>\n    </tr>\n    <tr>\n      <td>...</td>\n      <td>...</td>\n      <td>...</td>\n    </tr>\n    <tr>\n      <td>50535</td>\n      <td>2.511012</td>\n      <td>2.500998</td>\n    </tr>\n    <tr>\n      <td>50536</td>\n      <td>2.509008</td>\n      <td>2.499002</td>\n    </tr>\n    <tr>\n      <td>50537</td>\n      <td>2.507004</td>\n      <td>2.497006</td>\n    </tr>\n    <tr>\n      <td>50538</td>\n      <td>2.505000</td>\n      <td>2.495010</td>\n    </tr>\n    <tr>\n      <td>50539</td>\n      <td>2.501994</td>\n      <td>2.492016</td>\n    </tr>\n  </tbody>\n</table>\n<p>50540 rows × 2 columns</p>\n</div>"
     },
     "metadata": {},
     "execution_count": 222
    }
   ],
   "source": [
    "df_ganjil"
   ]
  },
  {
   "source": [
    "### Tambahan"
   ],
   "cell_type": "markdown",
   "metadata": {}
  },
  {
   "cell_type": "code",
   "execution_count": 223,
   "metadata": {},
   "outputs": [],
   "source": [
    "df_final = df.copy() # Copy dataframe "
   ]
  },
  {
   "cell_type": "code",
   "execution_count": 244,
   "metadata": {},
   "outputs": [],
   "source": [
    "# create new column\n",
    "df_final['P'] = 0 \n",
    "df_final['R'] = 0"
   ]
  },
  {
   "cell_type": "code",
   "execution_count": 245,
   "metadata": {},
   "outputs": [
    {
     "output_type": "execute_result",
     "data": {
      "text/plain": [
       "RangeIndex(start=0, stop=90982, step=1)"
      ]
     },
     "metadata": {},
     "execution_count": 245
    }
   ],
   "source": [
    "df_final.index  # check initial index"
   ]
  },
  {
   "cell_type": "code",
   "execution_count": 249,
   "metadata": {},
   "outputs": [],
   "source": [
    "# initialize index for odd and even\n",
    "idx_ganjil = df_final.loc[df['Cycle'] % 2 != 0, ['P']].index\n",
    "idx_genap = df_final.loc[df['Cycle'] % 2 == 0, ['P']].index"
   ]
  },
  {
   "cell_type": "code",
   "execution_count": 252,
   "metadata": {},
   "outputs": [],
   "source": [
    "# set index (change) for odd and even\n",
    "df_ganjil.set_index([idx_ganjil], inplace=True)\n",
    "ddf_genap.set_index([idx_genap], inplace=True)"
   ]
  },
  {
   "cell_type": "code",
   "execution_count": 254,
   "metadata": {},
   "outputs": [
    {
     "output_type": "execute_result",
     "data": {
      "text/plain": [
       "Int64Index([10237, 10238, 10239, 10240, 10241, 10242, 10243, 10244, 10245,\n",
       "            10246,\n",
       "            ...\n",
       "            80992, 80993, 80994, 80995, 80996, 80997, 80998, 80999, 81000,\n",
       "            81001],\n",
       "           dtype='int64', length=40442)"
      ]
     },
     "metadata": {},
     "execution_count": 254
    }
   ],
   "source": [
    "# check after index changed\n",
    "df_genap.index"
   ]
  },
  {
   "cell_type": "code",
   "execution_count": 260,
   "metadata": {},
   "outputs": [],
   "source": [
    "# assign value for odd cycle\n",
    "df_final.loc[df['Cycle'] % 2 != 0, ['P']] = df_ganjil['ganjil_P']\n",
    "df_final.loc[df['Cycle'] % 2 != 0, ['R']] = df_ganjil['ganjil_R']\n",
    "\n",
    "# assign value for even cycle\n",
    "df_final.loc[df['Cycle'] % 2 == 0, ['P']] = df_genap['genap_P']\n",
    "df_final.loc[df['Cycle'] % 2 == 0, ['R']] = df_genap['genap_R']"
   ]
  },
  {
   "cell_type": "code",
   "execution_count": 258,
   "metadata": {},
   "outputs": [
    {
     "output_type": "execute_result",
     "data": {
      "text/plain": [
       "              R\n",
       "10237  4.139980\n",
       "10238  4.130653\n",
       "10239  4.116232\n",
       "10240  4.111111\n",
       "10241  4.102897\n",
       "...         ...\n",
       "80997  2.508000\n",
       "80998  2.507508\n",
       "80999  2.505506\n",
       "81000  2.503504\n",
       "81001  2.499000\n",
       "\n",
       "[40442 rows x 1 columns]"
      ],
      "text/html": "<div>\n<style scoped>\n    .dataframe tbody tr th:only-of-type {\n        vertical-align: middle;\n    }\n\n    .dataframe tbody tr th {\n        vertical-align: top;\n    }\n\n    .dataframe thead th {\n        text-align: right;\n    }\n</style>\n<table border=\"1\" class=\"dataframe\">\n  <thead>\n    <tr style=\"text-align: right;\">\n      <th></th>\n      <th>R</th>\n    </tr>\n  </thead>\n  <tbody>\n    <tr>\n      <td>10237</td>\n      <td>4.139980</td>\n    </tr>\n    <tr>\n      <td>10238</td>\n      <td>4.130653</td>\n    </tr>\n    <tr>\n      <td>10239</td>\n      <td>4.116232</td>\n    </tr>\n    <tr>\n      <td>10240</td>\n      <td>4.111111</td>\n    </tr>\n    <tr>\n      <td>10241</td>\n      <td>4.102897</td>\n    </tr>\n    <tr>\n      <td>...</td>\n      <td>...</td>\n    </tr>\n    <tr>\n      <td>80997</td>\n      <td>2.508000</td>\n    </tr>\n    <tr>\n      <td>80998</td>\n      <td>2.507508</td>\n    </tr>\n    <tr>\n      <td>80999</td>\n      <td>2.505506</td>\n    </tr>\n    <tr>\n      <td>81000</td>\n      <td>2.503504</td>\n    </tr>\n    <tr>\n      <td>81001</td>\n      <td>2.499000</td>\n    </tr>\n  </tbody>\n</table>\n<p>40442 rows × 1 columns</p>\n</div>"
     },
     "metadata": {},
     "execution_count": 258
    }
   ],
   "source": [
    "df_final.loc[df['Cycle'] % 2 == 0, ['R']]"
   ]
  },
  {
   "cell_type": "code",
   "execution_count": 259,
   "metadata": {},
   "outputs": [
    {
     "output_type": "execute_result",
     "data": {
      "text/plain": [
       "       time(s)    V_m  Current (A)  Cycle       Cap         P         R\n",
       "0            0  4.098        0.997      1  2.840817  4.085706  4.110331\n",
       "1            1  4.096        0.998      1  2.840817  4.087808  4.104208\n",
       "2            2  4.094        0.999      1  2.840817  4.089906  4.098098\n",
       "3            3  4.093        0.998      1  2.840817  4.084814  4.101202\n",
       "4            4  4.092        0.999      1  2.840817  4.087908  4.096096\n",
       "...        ...    ...          ...    ...       ...       ...       ...\n",
       "90977    90977  2.506        1.002      9  2.770180  2.511012  2.500998\n",
       "90978    90978  2.504        1.002      9  2.770180  2.509008  2.499002\n",
       "90979    90979  2.502        1.002      9  2.770180  2.507004  2.497006\n",
       "90980    90980  2.500        1.002      9  2.770180  2.505000  2.495010\n",
       "90981    90981  2.497        1.002      9  2.770180  2.501994  2.492016\n",
       "\n",
       "[90982 rows x 7 columns]"
      ],
      "text/html": "<div>\n<style scoped>\n    .dataframe tbody tr th:only-of-type {\n        vertical-align: middle;\n    }\n\n    .dataframe tbody tr th {\n        vertical-align: top;\n    }\n\n    .dataframe thead th {\n        text-align: right;\n    }\n</style>\n<table border=\"1\" class=\"dataframe\">\n  <thead>\n    <tr style=\"text-align: right;\">\n      <th></th>\n      <th>time(s)</th>\n      <th>V_m</th>\n      <th>Current (A)</th>\n      <th>Cycle</th>\n      <th>Cap</th>\n      <th>P</th>\n      <th>R</th>\n    </tr>\n  </thead>\n  <tbody>\n    <tr>\n      <td>0</td>\n      <td>0</td>\n      <td>4.098</td>\n      <td>0.997</td>\n      <td>1</td>\n      <td>2.840817</td>\n      <td>4.085706</td>\n      <td>4.110331</td>\n    </tr>\n    <tr>\n      <td>1</td>\n      <td>1</td>\n      <td>4.096</td>\n      <td>0.998</td>\n      <td>1</td>\n      <td>2.840817</td>\n      <td>4.087808</td>\n      <td>4.104208</td>\n    </tr>\n    <tr>\n      <td>2</td>\n      <td>2</td>\n      <td>4.094</td>\n      <td>0.999</td>\n      <td>1</td>\n      <td>2.840817</td>\n      <td>4.089906</td>\n      <td>4.098098</td>\n    </tr>\n    <tr>\n      <td>3</td>\n      <td>3</td>\n      <td>4.093</td>\n      <td>0.998</td>\n      <td>1</td>\n      <td>2.840817</td>\n      <td>4.084814</td>\n      <td>4.101202</td>\n    </tr>\n    <tr>\n      <td>4</td>\n      <td>4</td>\n      <td>4.092</td>\n      <td>0.999</td>\n      <td>1</td>\n      <td>2.840817</td>\n      <td>4.087908</td>\n      <td>4.096096</td>\n    </tr>\n    <tr>\n      <td>...</td>\n      <td>...</td>\n      <td>...</td>\n      <td>...</td>\n      <td>...</td>\n      <td>...</td>\n      <td>...</td>\n      <td>...</td>\n    </tr>\n    <tr>\n      <td>90977</td>\n      <td>90977</td>\n      <td>2.506</td>\n      <td>1.002</td>\n      <td>9</td>\n      <td>2.770180</td>\n      <td>2.511012</td>\n      <td>2.500998</td>\n    </tr>\n    <tr>\n      <td>90978</td>\n      <td>90978</td>\n      <td>2.504</td>\n      <td>1.002</td>\n      <td>9</td>\n      <td>2.770180</td>\n      <td>2.509008</td>\n      <td>2.499002</td>\n    </tr>\n    <tr>\n      <td>90979</td>\n      <td>90979</td>\n      <td>2.502</td>\n      <td>1.002</td>\n      <td>9</td>\n      <td>2.770180</td>\n      <td>2.507004</td>\n      <td>2.497006</td>\n    </tr>\n    <tr>\n      <td>90980</td>\n      <td>90980</td>\n      <td>2.500</td>\n      <td>1.002</td>\n      <td>9</td>\n      <td>2.770180</td>\n      <td>2.505000</td>\n      <td>2.495010</td>\n    </tr>\n    <tr>\n      <td>90981</td>\n      <td>90981</td>\n      <td>2.497</td>\n      <td>1.002</td>\n      <td>9</td>\n      <td>2.770180</td>\n      <td>2.501994</td>\n      <td>2.492016</td>\n    </tr>\n  </tbody>\n</table>\n<p>90982 rows × 7 columns</p>\n</div>"
     },
     "metadata": {},
     "execution_count": 259
    }
   ],
   "source": [
    "df_final"
   ]
  }
 ]
}